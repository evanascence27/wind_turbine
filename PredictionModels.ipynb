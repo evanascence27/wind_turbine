{
  "nbformat": 4,
  "nbformat_minor": 0,
  "metadata": {
    "kernelspec": {
      "display_name": "Python 3",
      "language": "python",
      "name": "python3"
    },
    "language_info": {
      "codemirror_mode": {
        "name": "ipython",
        "version": 3
      },
      "file_extension": ".py",
      "mimetype": "text/x-python",
      "name": "python",
      "nbconvert_exporter": "python",
      "pygments_lexer": "ipython3",
      "version": "3.7.3"
    },
    "colab": {
      "name": "PredictionModels.ipynb",
      "provenance": [],
      "collapsed_sections": []
    }
  },
  "cells": [
    {
      "cell_type": "code",
      "metadata": {
        "id": "Hj26Uc-NCD_8",
        "colab_type": "code",
        "colab": {}
      },
      "source": [
        "#importing libraries\n",
        "import pandas as pd\n",
        "import matplotlib.pyplot as plt\n",
        "import numpy as np"
      ],
      "execution_count": null,
      "outputs": []
    },
    {
      "cell_type": "code",
      "metadata": {
        "id": "_i44ONFICEAA",
        "colab_type": "code",
        "colab": {}
      },
      "source": [
        "#load dataset\n",
        "def load_dataset(filename):\n",
        "    df = pd.read_csv(filename)\n",
        "    df.rename(columns={'Date/Time':'Time', 'LV ActivePower (kW)':'ActivePower', 'Theoretical_Power_Curve (KWh)':'TheoriticalPower', 'Wind Direction (°)':'WindDirection', 'Wind Speed (m/s)':'Speed'}, inplace=True)\n",
        "    return df\n",
        "\n",
        "df = load_dataset(\"Scada_dataset.csv\")"
      ],
      "execution_count": null,
      "outputs": []
    },
    {
      "cell_type": "code",
      "metadata": {
        "id": "2gkIS6b_CEAH",
        "colab_type": "code",
        "colab": {}
      },
      "source": [
        "#function for finding months\n",
        "def find_month(x):\n",
        "    if \" 01 \" in x:\n",
        "        return 1\n",
        "    elif \" 02 \" in x:\n",
        "        return 2\n",
        "    elif \" 03 \" in x:\n",
        "        return 3    \n",
        "    elif \" 04 \" in x:\n",
        "        return 4    \n",
        "    elif \" 05 \" in x:\n",
        "        return 5    \n",
        "    elif \" 06 \" in x:\n",
        "        return 6    \n",
        "    elif \" 07 \" in x:\n",
        "        return 7    \n",
        "    elif \" 08 \" in x:\n",
        "        return 8    \n",
        "    elif \" 09 \" in x:\n",
        "        return 9    \n",
        "    elif \" 10 \" in x:\n",
        "        return 10    \n",
        "    elif \" 11 \" in x:\n",
        "        return 11    \n",
        "    else:\n",
        "        return 12"
      ],
      "execution_count": null,
      "outputs": []
    },
    {
      "cell_type": "code",
      "metadata": {
        "id": "0oMelbRACEAK",
        "colab_type": "code",
        "colab": {}
      },
      "source": [
        "#appending date, month and time columns\n",
        "def append_time(df):\n",
        "    df['Month'] = df.Time.apply(find_month)\n",
        "    df['Time']=pd.to_datetime(df.Time)\n",
        "    df['Day'] = df['Time'].dt.day\n",
        "    df['Hour'] = df['Time'].dt.hour\n",
        "    df['Minute'] = df['Time'].dt.minute\n",
        "    return df\n",
        "    \n",
        "df = append_time(df)"
      ],
      "execution_count": null,
      "outputs": []
    },
    {
      "cell_type": "code",
      "metadata": {
        "id": "rhoOmtRCCEAN",
        "colab_type": "code",
        "colab": {}
      },
      "source": [
        "#to categorize direction of wind\n",
        "def find_direction(x):\n",
        "    if x==0:\n",
        "        return \"N\"\n",
        "    if x==30:\n",
        "        return \"NNE\"\n",
        "    if x==60:\n",
        "        return \"NEE\" \n",
        "    if x==90:\n",
        "        return \"E\" \n",
        "    if x==120:\n",
        "        return \"SEE\" \n",
        "    if x==150:\n",
        "        return \"SSE\" \n",
        "    if x==180:\n",
        "        return \"S\" \n",
        "    if x==210:\n",
        "        return \"SSW\" \n",
        "    if x==240:\n",
        "        return \"SWW\" \n",
        "    if x==270:\n",
        "        return \"W\" \n",
        "    if x==300:\n",
        "        return \"NWW\" \n",
        "    if x==330:\n",
        "        return \"NNW\""
      ],
      "execution_count": null,
      "outputs": []
    },
    {
      "cell_type": "code",
      "metadata": {
        "id": "uTU46bSWCEAS",
        "colab_type": "code",
        "colab": {}
      },
      "source": [
        "#to find mean direction from given values\n",
        "def mean_direction(x):\n",
        "    list = []\n",
        "    i = 15\n",
        "    while i <= 375:\n",
        "        list.append(i)\n",
        "        i += 30\n",
        "        \n",
        "    for i in list:\n",
        "        if x < i:\n",
        "            x = i-15\n",
        "            if x == 360:\n",
        "                return 0\n",
        "            else:\n",
        "                return x"
      ],
      "execution_count": null,
      "outputs": []
    },
    {
      "cell_type": "code",
      "metadata": {
        "id": "DECX8kKmCEAY",
        "colab_type": "code",
        "colab": {}
      },
      "source": [
        "#adding features\n",
        "def add_features(df):\n",
        "    df[\"meanDirection\"] = df[\"WindDirection\"].apply(mean_direction)\n",
        "    df[\"Direction\"] = df[\"meanDirection\"].apply(find_direction)\n",
        "    return df\n",
        "\n",
        "df = add_features(df)"
      ],
      "execution_count": null,
      "outputs": []
    },
    {
      "cell_type": "code",
      "metadata": {
        "id": "n1vvEwEzCEAh",
        "colab_type": "code",
        "colab": {}
      },
      "source": [
        "#separating features and targets\n",
        "def features_targets(df):\n",
        "    X = df.drop(labels = ['Time','TheoriticalPower', 'ActivePower'], axis = 1)\n",
        "    y = df['ActivePower']\n",
        "    return X, y\n",
        "    \n",
        "X, y = features_targets(df)"
      ],
      "execution_count": null,
      "outputs": []
    },
    {
      "cell_type": "code",
      "metadata": {
        "id": "smZdMZpbrs3N",
        "colab_type": "code",
        "colab": {}
      },
      "source": [
        "#train test split for regression\n",
        "from sklearn.model_selection import train_test_split\n",
        "X_train, X_test, y_train,y_test = train_test_split(X, y, test_size = 0.2, random_state = 47)"
      ],
      "execution_count": null,
      "outputs": []
    },
    {
      "cell_type": "code",
      "metadata": {
        "id": "ImssOl_tkU6Y",
        "colab_type": "code",
        "colab": {}
      },
      "source": [
        "X_train_enc = pd.concat([X_train['WindDirection'], pd.get_dummies(X_train, prefix = 'Dir')], axis = 1) \n",
        "X_train_enc.drop('WindDirection', axis = 1, inplace = True)\n",
        "X_test_enc = pd.concat([X_test['WindDirection'], pd.get_dummies(X_test, prefix = 'Dir')], axis = 1)\n",
        "X_test_enc.drop('WindDirection', axis = 1, inplace = True)"
      ],
      "execution_count": null,
      "outputs": []
    },
    {
      "cell_type": "code",
      "metadata": {
        "id": "yG6J8ZQZCEEo",
        "colab_type": "code",
        "colab": {}
      },
      "source": [
        "#predict new data\n",
        "def model_predict(model, X_test):\n",
        "   y_pred = model.predict(X_test)\n",
        "   return y_pred\n",
        "   "
      ],
      "execution_count": null,
      "outputs": []
    },
    {
      "cell_type": "code",
      "metadata": {
        "id": "tQtkzxWTCJEI",
        "colab_type": "code",
        "colab": {}
      },
      "source": [
        "#error calculation\n",
        "from sklearn.metrics import mean_squared_error\n",
        "from sklearn.metrics import mean_absolute_error \n",
        "def reg_model_accuracy(model, x_test, y_pred, y_test):\n",
        "    acc = model.score(x_test, y_test)\n",
        "    MSE = np.sqrt(mean_squared_error(y_test, y_pred))\n",
        "    #MAE = mean_absolute_error(y_test, y_pred)\n",
        "    return acc, MSE\n"
      ],
      "execution_count": null,
      "outputs": []
    },
    {
      "cell_type": "code",
      "metadata": {
        "id": "0-yG3FDCCEAu",
        "colab_type": "code",
        "colab": {
          "base_uri": "https://localhost:8080/",
          "height": 173
        },
        "outputId": "3e9dbf9b-088a-4416-f293-c162fbb64add"
      },
      "source": [
        "#Regression Models\n",
        "from sklearn.linear_model import LinearRegression\n",
        "from sklearn.linear_model import BayesianRidge\n",
        "from sklearn.ensemble import RandomForestRegressor\n",
        "def models(x_train, y_train, x_test, y_test):\n",
        "\n",
        "    #Lineear Regression\n",
        "    model1 = LinearRegression().fit(x_train, y_train.values.reshape(len(y_train), 1))\n",
        "    y_pred = model_predict(model1, x_test)\n",
        "    acc, mse = reg_model_accuracy(model1, x_test, y_pred, y_test)\n",
        "    print(\"Linear Regressor accuracy: \" + str(acc*100) + \"%\")\n",
        "    print(\"Linear Regressor MSE: \" + str(mse))\n",
        "    #Bayesian Ridge\n",
        "    model2 = BayesianRidge().fit(x_train, y_train.values.reshape(len(y_train), 1))\n",
        "    y_pred = model_predict(model2, x_test)\n",
        "    acc, mse = reg_model_accuracy(model2, x_test, y_pred, y_test)\n",
        "    print(\"Bayesian Ridge Regressor accuracy: \" + str(acc*100) + \"%\")\n",
        "    print(\"Bayesian Ridge Regressor MSE: \" + str(mse))\n",
        "    #RandomForest Regression\n",
        "    model3 = RandomForestRegressor().fit(x_train, y_train.values.ravel())\n",
        "    y_pred = model_predict(model3, x_test)\n",
        "    acc, mse = reg_model_accuracy(model3, x_test, y_pred, y_test)\n",
        "    print(\"RandomForest Regressor accuracy: \" + str(acc*100) + \"%\")\n",
        "    print(\"RandomForest Regressor MSE: \" + str(mse))\n",
        "\n",
        "models(X_train_enc, y_train, X_test_enc, y_test)"
      ],
      "execution_count": null,
      "outputs": [
        {
          "output_type": "stream",
          "text": [
            "Linear Regressor accuracy: 84.25320755666658%\n",
            "Linear Regressor MSE: 521.6405584405286\n",
            "Bayesian Ridge Regressor accuracy: 84.25361369105089%\n",
            "Bayesian Ridge Regressor MSE: 521.6338314345735\n"
          ],
          "name": "stdout"
        },
        {
          "output_type": "stream",
          "text": [
            "/usr/local/lib/python3.6/dist-packages/sklearn/utils/validation.py:760: DataConversionWarning: A column-vector y was passed when a 1d array was expected. Please change the shape of y to (n_samples, ), for example using ravel().\n",
            "  y = column_or_1d(y, warn=True)\n"
          ],
          "name": "stderr"
        },
        {
          "output_type": "stream",
          "text": [
            "RandomForest Regressor accuracy: 97.4818073560042%\n",
            "RandomForest Regressor MSE: 208.60262783878704\n"
          ],
          "name": "stdout"
        }
      ]
    },
    {
      "cell_type": "code",
      "metadata": {
        "id": "itsFL92xWFQb",
        "colab_type": "code",
        "colab": {}
      },
      "source": [
        "#LSTM preprocessing\n",
        "def series_to_supervised(data, n_in=1, n_out=1, dropnan=True):\n",
        "    n_vars = 1 if type(data) is list else data.shape[1]\n",
        "    df = pd.DataFrame(data)\n",
        "    cols, names = list(), list()\n",
        "    # input sequence (t-n, ... t-1)\n",
        "    for i in range(n_in, 0, -1):\n",
        "        cols.append(df.shift(i))\n",
        "        names += [('var%d(t-%d)' % (j+1, i)) for j in range(n_vars)]\n",
        "    # forecast sequence (t, t+1, ... t+n)\n",
        "    for i in range(0, n_out):\n",
        "        cols.append(df.shift(-i))\n",
        "        if i == 0:\n",
        "            names += [('var%d(t)' % (j+1)) for j in range(n_vars)]\n",
        "        else:\n",
        "            names += [('var%d(t+%d)' % (j+1, i)) for j in range(n_vars)]\n",
        "    # put it all together\n",
        "    agg = pd.concat(cols, axis=1)\n",
        "    agg.columns = names\n",
        "    # drop rows with NaN values\n",
        "    if dropnan:\n",
        "        agg.dropna(inplace=True)\n",
        "    return agg"
      ],
      "execution_count": null,
      "outputs": []
    },
    {
      "cell_type": "code",
      "metadata": {
        "id": "XV5K3BvVNH8H",
        "colab_type": "code",
        "colab": {}
      },
      "source": [
        "#ordinal encoding features: direction\n",
        "from sklearn.preprocessing import MinMaxScaler, OneHotEncoder, OrdinalEncoder\n",
        "def feature_encoding(X):\n",
        "    #encoding cols\n",
        "    X = pd.concat([X['Direction'], pd.get_dummies(X, prefix = 'dir')], axis = 1) \n",
        "    X.drop('Direction', axis = 1, inplace = True)\n",
        "    return X\n",
        "\n",
        "X = feature_encoding(X)"
      ],
      "execution_count": null,
      "outputs": []
    },
    {
      "cell_type": "code",
      "metadata": {
        "id": "_PTzyuUQB6hL",
        "colab_type": "code",
        "colab": {}
      },
      "source": [
        "#LSTM Scaling\n",
        "from sklearn.preprocessing import MinMaxScaler\n",
        "def scale(X):\n",
        "    scaler = MinMaxScaler(feature_range=(0,1))\n",
        "    scaled = scaler.fit_transform(X)\n",
        "    reframed = series_to_supervised(scaled,1,1)\n",
        "    reframed.drop(reframed.columns[[21,22,23,24,25,26,27,28,29,30,31,32,33,34,35,36,37]], axis=1, inplace=True)\n",
        "    return reframed\n",
        "\n",
        "reframed = scale(X)\n",
        "values = reframed.values;"
      ],
      "execution_count": null,
      "outputs": []
    },
    {
      "cell_type": "code",
      "metadata": {
        "id": "UNDQh5A0CEBb",
        "colab_type": "code",
        "colab": {}
      },
      "source": [
        "#LSTM train test split\n",
        "import math\n",
        "def data_split(df):\n",
        "  x,y = df.shape\n",
        "  n_train = int(math.ceil(x*0.8))\n",
        "  train = df[:n_train]\n",
        "  test = df[n_train:]\n",
        "  trainX,trainY = train[:,:-1],train[:,-1]\n",
        "  testX,testY = test[:,:-1],test[:,-1]\n",
        "  trainX = trainX.reshape(trainX.shape[0],1,trainX.shape[1])\n",
        "  testX = testX.reshape(testX.shape[0],1,testX.shape[1])\n",
        "  return trainX, testX, trainY, testY\n",
        "\n",
        "X_train, X_test, y_train, y_test = data_split(values);"
      ],
      "execution_count": null,
      "outputs": []
    },
    {
      "cell_type": "code",
      "metadata": {
        "id": "r1S3ussPCEBf",
        "colab_type": "code",
        "colab": {
          "base_uri": "https://localhost:8080/",
          "height": 1000
        },
        "outputId": "53db0012-6732-485c-c351-9f60d2fbfea2"
      },
      "source": [
        "#Model 4: LSTM neural networks training\n",
        "from sklearn.metrics import mean_squared_error\n",
        "from keras.models import Sequential\n",
        "from keras.callbacks import EarlyStopping\n",
        "from keras.layers import Dense,LSTM,GRU\n",
        "from keras.callbacks import ModelCheckpoint\n",
        "from keras.callbacks import ReduceLROnPlateau\n",
        "\n",
        "def LSTM_train(X_train, X_test):\n",
        "    stop_noimprovement = EarlyStopping(patience=10)\n",
        "    model4 = Sequential()\n",
        "    model4.add(LSTM(50,input_shape=(X_train.shape[1], X_train.shape[2]),dropout=0.2))\n",
        "    model4.add(Dense(1))\n",
        "    model4.compile(optimizer = 'adam', loss = 'mae',metrics=['mae','mse','mape','cosine'])\n",
        "    #Check Point\n",
        "    checkpoint_name = 'req_model.hdf5' \n",
        "    checkpoint = ModelCheckpoint(checkpoint_name, monitor='loss', verbose = 1, save_best_only = True, mode ='max');\n",
        "    callbacks_list = [checkpoint]\n",
        "    history = model4.fit(X_train,y_train,validation_data=(X_test,y_test),epochs=100,verbose=1,shuffle=False);\n",
        "    return model4, history\n",
        "\n",
        "model4, history = LSTM_train(X_train, X_test);"
      ],
      "execution_count": null,
      "outputs": [
        {
          "output_type": "stream",
          "text": [
            "Using TensorFlow backend.\n"
          ],
          "name": "stderr"
        },
        {
          "output_type": "stream",
          "text": [
            "Train on 40424 samples, validate on 10105 samples\n",
            "Epoch 1/100\n",
            "40424/40424 [==============================] - 4s 87us/step - loss: 0.0901 - mae: 0.0901 - mse: 0.0255 - mape: 416222.6250 - cosine: 0.9958 - val_loss: 0.0740 - val_mae: 0.0740 - val_mse: 0.0179 - val_mape: 260930.2812 - val_cosine: 0.9988\n",
            "Epoch 2/100\n",
            "40424/40424 [==============================] - 3s 72us/step - loss: 0.0725 - mae: 0.0725 - mse: 0.0193 - mape: 444441.2812 - cosine: 0.9970 - val_loss: 0.0614 - val_mae: 0.0614 - val_mse: 0.0144 - val_mape: 279425.7500 - val_cosine: 0.9988\n",
            "Epoch 3/100\n",
            "40424/40424 [==============================] - 3s 71us/step - loss: 0.0629 - mae: 0.0629 - mse: 0.0167 - mape: 467736.2812 - cosine: 0.9964 - val_loss: 0.0521 - val_mae: 0.0521 - val_mse: 0.0118 - val_mape: 281526.6562 - val_cosine: 0.9988\n",
            "Epoch 4/100\n",
            "40424/40424 [==============================] - 3s 70us/step - loss: 0.0549 - mae: 0.0549 - mse: 0.0162 - mape: 461842.5938 - cosine: 0.9934 - val_loss: 0.0489 - val_mae: 0.0489 - val_mse: 0.0113 - val_mape: 287999.0000 - val_cosine: 0.9988\n",
            "Epoch 5/100\n",
            "40424/40424 [==============================] - 3s 71us/step - loss: 0.0500 - mae: 0.0500 - mse: 0.0160 - mape: 463056.8750 - cosine: 0.9952 - val_loss: 0.0512 - val_mae: 0.0512 - val_mse: 0.0114 - val_mape: 280781.8438 - val_cosine: 0.9988\n",
            "Epoch 6/100\n",
            "40424/40424 [==============================] - 3s 71us/step - loss: 0.0477 - mae: 0.0477 - mse: 0.0156 - mape: 463468.1250 - cosine: 0.9964 - val_loss: 0.0503 - val_mae: 0.0503 - val_mse: 0.0112 - val_mape: 287448.3750 - val_cosine: 0.9988\n",
            "Epoch 7/100\n",
            "40424/40424 [==============================] - 3s 71us/step - loss: 0.0458 - mae: 0.0458 - mse: 0.0154 - mape: 454178.1875 - cosine: 0.9969 - val_loss: 0.0517 - val_mae: 0.0517 - val_mse: 0.0114 - val_mape: 283168.7188 - val_cosine: 0.9988\n",
            "Epoch 8/100\n",
            "40424/40424 [==============================] - 3s 70us/step - loss: 0.0434 - mae: 0.0434 - mse: 0.0146 - mape: 470841.2500 - cosine: 0.9968 - val_loss: 0.0518 - val_mae: 0.0518 - val_mse: 0.0114 - val_mape: 288876.5938 - val_cosine: 0.9988\n",
            "Epoch 9/100\n",
            "40424/40424 [==============================] - 3s 71us/step - loss: 0.0429 - mae: 0.0429 - mse: 0.0148 - mape: 479293.7500 - cosine: 0.9976 - val_loss: 0.0549 - val_mae: 0.0549 - val_mse: 0.0117 - val_mape: 279066.8125 - val_cosine: 0.9988\n",
            "Epoch 10/100\n",
            "40424/40424 [==============================] - 3s 69us/step - loss: 0.0414 - mae: 0.0414 - mse: 0.0144 - mape: 454619.6875 - cosine: 0.9981 - val_loss: 0.0533 - val_mae: 0.0533 - val_mse: 0.0116 - val_mape: 280318.4062 - val_cosine: 0.9988\n",
            "Epoch 11/100\n",
            "40424/40424 [==============================] - 3s 69us/step - loss: 0.0404 - mae: 0.0404 - mse: 0.0141 - mape: 478527.6250 - cosine: 0.9979 - val_loss: 0.0568 - val_mae: 0.0568 - val_mse: 0.0119 - val_mape: 284265.0938 - val_cosine: 0.9988\n",
            "Epoch 12/100\n",
            "40424/40424 [==============================] - 3s 69us/step - loss: 0.0399 - mae: 0.0399 - mse: 0.0142 - mape: 485619.1875 - cosine: 0.9977 - val_loss: 0.0582 - val_mae: 0.0582 - val_mse: 0.0121 - val_mape: 278193.6875 - val_cosine: 0.9988\n",
            "Epoch 13/100\n",
            "40424/40424 [==============================] - 3s 69us/step - loss: 0.0399 - mae: 0.0399 - mse: 0.0144 - mape: 488454.4375 - cosine: 0.9980 - val_loss: 0.0555 - val_mae: 0.0555 - val_mse: 0.0118 - val_mape: 284647.9375 - val_cosine: 0.9988\n",
            "Epoch 14/100\n",
            "40424/40424 [==============================] - 3s 69us/step - loss: 0.0395 - mae: 0.0395 - mse: 0.0143 - mape: 483722.6562 - cosine: 0.9979 - val_loss: 0.0598 - val_mae: 0.0598 - val_mse: 0.0123 - val_mape: 281447.6875 - val_cosine: 0.9988\n",
            "Epoch 15/100\n",
            "40424/40424 [==============================] - 3s 69us/step - loss: 0.0387 - mae: 0.0387 - mse: 0.0141 - mape: 475584.0000 - cosine: 0.9979 - val_loss: 0.0578 - val_mae: 0.0578 - val_mse: 0.0121 - val_mape: 274507.2812 - val_cosine: 0.9988\n",
            "Epoch 16/100\n",
            "40424/40424 [==============================] - 3s 69us/step - loss: 0.0384 - mae: 0.0384 - mse: 0.0139 - mape: 483407.7500 - cosine: 0.9981 - val_loss: 0.0583 - val_mae: 0.0583 - val_mse: 0.0123 - val_mape: 271107.0000 - val_cosine: 0.9988\n",
            "Epoch 17/100\n",
            "40424/40424 [==============================] - 3s 70us/step - loss: 0.0389 - mae: 0.0389 - mse: 0.0145 - mape: 476625.9375 - cosine: 0.9977 - val_loss: 0.0590 - val_mae: 0.0590 - val_mse: 0.0123 - val_mape: 274886.8750 - val_cosine: 0.9988\n",
            "Epoch 18/100\n",
            "40424/40424 [==============================] - 3s 69us/step - loss: 0.0381 - mae: 0.0381 - mse: 0.0140 - mape: 484443.7500 - cosine: 0.9979 - val_loss: 0.0613 - val_mae: 0.0613 - val_mse: 0.0126 - val_mape: 273958.0625 - val_cosine: 0.9988\n",
            "Epoch 19/100\n",
            "40424/40424 [==============================] - 3s 70us/step - loss: 0.0376 - mae: 0.0376 - mse: 0.0137 - mape: 490756.2500 - cosine: 0.9979 - val_loss: 0.0583 - val_mae: 0.0583 - val_mse: 0.0122 - val_mape: 274138.4688 - val_cosine: 0.9988\n",
            "Epoch 20/100\n",
            "40424/40424 [==============================] - 3s 69us/step - loss: 0.0373 - mae: 0.0373 - mse: 0.0137 - mape: 485293.7188 - cosine: 0.9981 - val_loss: 0.0605 - val_mae: 0.0605 - val_mse: 0.0125 - val_mape: 269067.9688 - val_cosine: 0.9988\n",
            "Epoch 21/100\n",
            "40424/40424 [==============================] - 3s 70us/step - loss: 0.0374 - mae: 0.0374 - mse: 0.0139 - mape: 481800.3750 - cosine: 0.9980 - val_loss: 0.0598 - val_mae: 0.0598 - val_mse: 0.0124 - val_mape: 274435.5938 - val_cosine: 0.9988\n",
            "Epoch 22/100\n",
            "40424/40424 [==============================] - 3s 70us/step - loss: 0.0376 - mae: 0.0376 - mse: 0.0141 - mape: 482974.1250 - cosine: 0.9980 - val_loss: 0.0611 - val_mae: 0.0611 - val_mse: 0.0126 - val_mape: 270910.1562 - val_cosine: 0.9988\n",
            "Epoch 23/100\n",
            "40424/40424 [==============================] - 3s 71us/step - loss: 0.0372 - mae: 0.0372 - mse: 0.0140 - mape: 496870.9062 - cosine: 0.9979 - val_loss: 0.0607 - val_mae: 0.0607 - val_mse: 0.0125 - val_mape: 275901.0938 - val_cosine: 0.9988\n",
            "Epoch 24/100\n",
            "40424/40424 [==============================] - 3s 70us/step - loss: 0.0375 - mae: 0.0375 - mse: 0.0142 - mape: 485218.0312 - cosine: 0.9981 - val_loss: 0.0624 - val_mae: 0.0624 - val_mse: 0.0128 - val_mape: 268720.9062 - val_cosine: 0.9988\n",
            "Epoch 25/100\n",
            "40424/40424 [==============================] - 3s 71us/step - loss: 0.0367 - mae: 0.0367 - mse: 0.0136 - mape: 490410.3750 - cosine: 0.9979 - val_loss: 0.0618 - val_mae: 0.0618 - val_mse: 0.0128 - val_mape: 266973.9062 - val_cosine: 0.9988\n",
            "Epoch 26/100\n",
            "40424/40424 [==============================] - 3s 69us/step - loss: 0.0365 - mae: 0.0365 - mse: 0.0138 - mape: 491051.5625 - cosine: 0.9983 - val_loss: 0.0611 - val_mae: 0.0611 - val_mse: 0.0127 - val_mape: 266812.3750 - val_cosine: 0.9988\n",
            "Epoch 27/100\n",
            "40424/40424 [==============================] - 3s 70us/step - loss: 0.0365 - mae: 0.0365 - mse: 0.0137 - mape: 461194.8125 - cosine: 0.9980 - val_loss: 0.0628 - val_mae: 0.0628 - val_mse: 0.0129 - val_mape: 266921.2188 - val_cosine: 0.9988\n",
            "Epoch 28/100\n",
            "40424/40424 [==============================] - 3s 69us/step - loss: 0.0362 - mae: 0.0362 - mse: 0.0136 - mape: 482788.9062 - cosine: 0.9980 - val_loss: 0.0621 - val_mae: 0.0621 - val_mse: 0.0128 - val_mape: 268778.6562 - val_cosine: 0.9988\n",
            "Epoch 29/100\n",
            "40424/40424 [==============================] - 3s 70us/step - loss: 0.0361 - mae: 0.0361 - mse: 0.0138 - mape: 490743.5312 - cosine: 0.9981 - val_loss: 0.0669 - val_mae: 0.0669 - val_mse: 0.0136 - val_mape: 259145.7500 - val_cosine: 0.9988\n",
            "Epoch 30/100\n",
            "40424/40424 [==============================] - 3s 70us/step - loss: 0.0364 - mae: 0.0364 - mse: 0.0140 - mape: 484481.7500 - cosine: 0.9980 - val_loss: 0.0657 - val_mae: 0.0657 - val_mse: 0.0133 - val_mape: 260738.1094 - val_cosine: 0.9988\n",
            "Epoch 31/100\n",
            "40424/40424 [==============================] - 3s 70us/step - loss: 0.0365 - mae: 0.0365 - mse: 0.0141 - mape: 489693.3438 - cosine: 0.9980 - val_loss: 0.0636 - val_mae: 0.0636 - val_mse: 0.0130 - val_mape: 266438.3438 - val_cosine: 0.9988\n",
            "Epoch 32/100\n",
            "40424/40424 [==============================] - 3s 71us/step - loss: 0.0355 - mae: 0.0355 - mse: 0.0135 - mape: 483373.4062 - cosine: 0.9981 - val_loss: 0.0635 - val_mae: 0.0635 - val_mse: 0.0130 - val_mape: 265316.8750 - val_cosine: 0.9988\n",
            "Epoch 33/100\n",
            "40424/40424 [==============================] - 3s 72us/step - loss: 0.0362 - mae: 0.0362 - mse: 0.0141 - mape: 469663.5000 - cosine: 0.9979 - val_loss: 0.0660 - val_mae: 0.0660 - val_mse: 0.0134 - val_mape: 257877.1250 - val_cosine: 0.9988\n",
            "Epoch 34/100\n",
            "40424/40424 [==============================] - 3s 72us/step - loss: 0.0361 - mae: 0.0361 - mse: 0.0140 - mape: 485903.6562 - cosine: 0.9979 - val_loss: 0.0675 - val_mae: 0.0675 - val_mse: 0.0136 - val_mape: 260564.2188 - val_cosine: 0.9988\n",
            "Epoch 35/100\n",
            "40424/40424 [==============================] - 3s 71us/step - loss: 0.0360 - mae: 0.0360 - mse: 0.0140 - mape: 480278.7500 - cosine: 0.9982 - val_loss: 0.0644 - val_mae: 0.0644 - val_mse: 0.0133 - val_mape: 262026.5469 - val_cosine: 0.9988\n",
            "Epoch 36/100\n",
            "40424/40424 [==============================] - 3s 71us/step - loss: 0.0359 - mae: 0.0359 - mse: 0.0140 - mape: 494760.5000 - cosine: 0.9980 - val_loss: 0.0666 - val_mae: 0.0666 - val_mse: 0.0135 - val_mape: 262142.6562 - val_cosine: 0.9988\n",
            "Epoch 37/100\n",
            "40424/40424 [==============================] - 3s 70us/step - loss: 0.0357 - mae: 0.0357 - mse: 0.0137 - mape: 490538.3125 - cosine: 0.9982 - val_loss: 0.0708 - val_mae: 0.0708 - val_mse: 0.0142 - val_mape: 259436.6094 - val_cosine: 0.9988\n",
            "Epoch 38/100\n",
            "40424/40424 [==============================] - 3s 72us/step - loss: 0.0354 - mae: 0.0354 - mse: 0.0137 - mape: 468597.5312 - cosine: 0.9983 - val_loss: 0.0690 - val_mae: 0.0690 - val_mse: 0.0139 - val_mape: 255146.2188 - val_cosine: 0.9988\n",
            "Epoch 39/100\n",
            "40424/40424 [==============================] - 3s 71us/step - loss: 0.0352 - mae: 0.0352 - mse: 0.0138 - mape: 486813.7500 - cosine: 0.9983 - val_loss: 0.0648 - val_mae: 0.0648 - val_mse: 0.0133 - val_mape: 264539.3750 - val_cosine: 0.9988\n",
            "Epoch 40/100\n",
            "40424/40424 [==============================] - 3s 71us/step - loss: 0.0357 - mae: 0.0357 - mse: 0.0139 - mape: 489611.5625 - cosine: 0.9982 - val_loss: 0.0686 - val_mae: 0.0686 - val_mse: 0.0139 - val_mape: 253973.5625 - val_cosine: 0.9988\n",
            "Epoch 41/100\n",
            "40424/40424 [==============================] - 3s 70us/step - loss: 0.0355 - mae: 0.0355 - mse: 0.0140 - mape: 488279.6875 - cosine: 0.9982 - val_loss: 0.0711 - val_mae: 0.0711 - val_mse: 0.0142 - val_mape: 257814.5938 - val_cosine: 0.9988\n",
            "Epoch 42/100\n",
            "40424/40424 [==============================] - 3s 70us/step - loss: 0.0352 - mae: 0.0352 - mse: 0.0139 - mape: 483645.5000 - cosine: 0.9984 - val_loss: 0.0696 - val_mae: 0.0696 - val_mse: 0.0140 - val_mape: 257435.0000 - val_cosine: 0.9988\n",
            "Epoch 43/100\n",
            "40424/40424 [==============================] - 3s 71us/step - loss: 0.0357 - mae: 0.0357 - mse: 0.0141 - mape: 489294.1250 - cosine: 0.9984 - val_loss: 0.0679 - val_mae: 0.0679 - val_mse: 0.0137 - val_mape: 262274.2500 - val_cosine: 0.9988\n",
            "Epoch 44/100\n",
            "40424/40424 [==============================] - 3s 71us/step - loss: 0.0355 - mae: 0.0355 - mse: 0.0139 - mape: 482468.1875 - cosine: 0.9984 - val_loss: 0.0678 - val_mae: 0.0678 - val_mse: 0.0136 - val_mape: 263053.7188 - val_cosine: 0.9988\n",
            "Epoch 45/100\n",
            "40424/40424 [==============================] - 3s 72us/step - loss: 0.0350 - mae: 0.0350 - mse: 0.0136 - mape: 481739.4688 - cosine: 0.9983 - val_loss: 0.0699 - val_mae: 0.0699 - val_mse: 0.0140 - val_mape: 261960.9688 - val_cosine: 0.9988\n",
            "Epoch 46/100\n",
            "40424/40424 [==============================] - 3s 71us/step - loss: 0.0353 - mae: 0.0353 - mse: 0.0139 - mape: 490763.4375 - cosine: 0.9983 - val_loss: 0.0721 - val_mae: 0.0721 - val_mse: 0.0144 - val_mape: 258008.2969 - val_cosine: 0.9988\n",
            "Epoch 47/100\n",
            "40424/40424 [==============================] - 3s 71us/step - loss: 0.0351 - mae: 0.0351 - mse: 0.0139 - mape: 478453.6562 - cosine: 0.9984 - val_loss: 0.0712 - val_mae: 0.0712 - val_mse: 0.0143 - val_mape: 257567.3125 - val_cosine: 0.9988\n",
            "Epoch 48/100\n",
            "40424/40424 [==============================] - 3s 71us/step - loss: 0.0359 - mae: 0.0359 - mse: 0.0144 - mape: 490092.0625 - cosine: 0.9983 - val_loss: 0.0672 - val_mae: 0.0672 - val_mse: 0.0135 - val_mape: 263344.3438 - val_cosine: 0.9988\n",
            "Epoch 49/100\n",
            "40424/40424 [==============================] - 3s 71us/step - loss: 0.0351 - mae: 0.0351 - mse: 0.0137 - mape: 493182.4062 - cosine: 0.9984 - val_loss: 0.0694 - val_mae: 0.0694 - val_mse: 0.0140 - val_mape: 258053.1875 - val_cosine: 0.9988\n",
            "Epoch 50/100\n",
            "40424/40424 [==============================] - 3s 71us/step - loss: 0.0352 - mae: 0.0352 - mse: 0.0139 - mape: 492500.7188 - cosine: 0.9983 - val_loss: 0.0669 - val_mae: 0.0669 - val_mse: 0.0136 - val_mape: 263429.2812 - val_cosine: 0.9988\n",
            "Epoch 51/100\n",
            "40424/40424 [==============================] - 3s 70us/step - loss: 0.0353 - mae: 0.0353 - mse: 0.0140 - mape: 480003.5312 - cosine: 0.9984 - val_loss: 0.0718 - val_mae: 0.0718 - val_mse: 0.0143 - val_mape: 257100.9688 - val_cosine: 0.9988\n",
            "Epoch 52/100\n",
            "40424/40424 [==============================] - 3s 70us/step - loss: 0.0349 - mae: 0.0349 - mse: 0.0137 - mape: 493623.5312 - cosine: 0.9984 - val_loss: 0.0690 - val_mae: 0.0690 - val_mse: 0.0139 - val_mape: 261457.3281 - val_cosine: 0.9988\n",
            "Epoch 53/100\n",
            "40424/40424 [==============================] - 3s 75us/step - loss: 0.0350 - mae: 0.0350 - mse: 0.0138 - mape: 489244.7812 - cosine: 0.9983 - val_loss: 0.0703 - val_mae: 0.0703 - val_mse: 0.0141 - val_mape: 260192.6250 - val_cosine: 0.9988\n",
            "Epoch 54/100\n",
            "40424/40424 [==============================] - 3s 79us/step - loss: 0.0347 - mae: 0.0347 - mse: 0.0137 - mape: 473540.9375 - cosine: 0.9984 - val_loss: 0.0713 - val_mae: 0.0713 - val_mse: 0.0144 - val_mape: 256424.6719 - val_cosine: 0.9988\n",
            "Epoch 55/100\n",
            "40424/40424 [==============================] - 3s 78us/step - loss: 0.0349 - mae: 0.0349 - mse: 0.0139 - mape: 488012.0312 - cosine: 0.9984 - val_loss: 0.0734 - val_mae: 0.0734 - val_mse: 0.0146 - val_mape: 259024.7812 - val_cosine: 0.9988\n",
            "Epoch 56/100\n",
            "40424/40424 [==============================] - 3s 78us/step - loss: 0.0350 - mae: 0.0350 - mse: 0.0140 - mape: 494206.7500 - cosine: 0.9984 - val_loss: 0.0703 - val_mae: 0.0703 - val_mse: 0.0141 - val_mape: 259244.2656 - val_cosine: 0.9988\n",
            "Epoch 57/100\n",
            "40424/40424 [==============================] - 3s 76us/step - loss: 0.0353 - mae: 0.0353 - mse: 0.0141 - mape: 493558.4688 - cosine: 0.9984 - val_loss: 0.0747 - val_mae: 0.0747 - val_mse: 0.0150 - val_mape: 254410.7188 - val_cosine: 0.9988\n",
            "Epoch 58/100\n",
            "40424/40424 [==============================] - 3s 73us/step - loss: 0.0350 - mae: 0.0350 - mse: 0.0140 - mape: 490838.2812 - cosine: 0.9984 - val_loss: 0.0685 - val_mae: 0.0685 - val_mse: 0.0139 - val_mape: 256116.6094 - val_cosine: 0.9988\n",
            "Epoch 59/100\n",
            "40424/40424 [==============================] - 3s 70us/step - loss: 0.0351 - mae: 0.0351 - mse: 0.0140 - mape: 486598.3438 - cosine: 0.9984 - val_loss: 0.0714 - val_mae: 0.0714 - val_mse: 0.0144 - val_mape: 257205.8750 - val_cosine: 0.9988\n",
            "Epoch 60/100\n",
            "40424/40424 [==============================] - 3s 70us/step - loss: 0.0344 - mae: 0.0344 - mse: 0.0136 - mape: 491198.0938 - cosine: 0.9984 - val_loss: 0.0716 - val_mae: 0.0716 - val_mse: 0.0144 - val_mape: 255033.8594 - val_cosine: 0.9988\n",
            "Epoch 61/100\n",
            "40424/40424 [==============================] - 3s 71us/step - loss: 0.0349 - mae: 0.0349 - mse: 0.0141 - mape: 493819.4375 - cosine: 0.9984 - val_loss: 0.0731 - val_mae: 0.0731 - val_mse: 0.0147 - val_mape: 256038.2812 - val_cosine: 0.9988\n",
            "Epoch 62/100\n",
            "40424/40424 [==============================] - 3s 69us/step - loss: 0.0344 - mae: 0.0344 - mse: 0.0135 - mape: 485634.2812 - cosine: 0.9984 - val_loss: 0.0699 - val_mae: 0.0699 - val_mse: 0.0141 - val_mape: 260984.6406 - val_cosine: 0.9988\n",
            "Epoch 63/100\n",
            "40424/40424 [==============================] - 3s 70us/step - loss: 0.0344 - mae: 0.0344 - mse: 0.0137 - mape: 493381.5000 - cosine: 0.9984 - val_loss: 0.0732 - val_mae: 0.0732 - val_mse: 0.0147 - val_mape: 255761.1719 - val_cosine: 0.9988\n",
            "Epoch 64/100\n",
            "40424/40424 [==============================] - 3s 71us/step - loss: 0.0347 - mae: 0.0347 - mse: 0.0138 - mape: 487099.5938 - cosine: 0.9984 - val_loss: 0.0732 - val_mae: 0.0732 - val_mse: 0.0147 - val_mape: 257775.6406 - val_cosine: 0.9988\n",
            "Epoch 65/100\n",
            "40424/40424 [==============================] - 3s 71us/step - loss: 0.0346 - mae: 0.0346 - mse: 0.0137 - mape: 494484.5000 - cosine: 0.9984 - val_loss: 0.0695 - val_mae: 0.0695 - val_mse: 0.0141 - val_mape: 258885.7188 - val_cosine: 0.9988\n",
            "Epoch 66/100\n",
            "40424/40424 [==============================] - 3s 71us/step - loss: 0.0345 - mae: 0.0345 - mse: 0.0137 - mape: 486117.3438 - cosine: 0.9984 - val_loss: 0.0692 - val_mae: 0.0692 - val_mse: 0.0140 - val_mape: 259889.8750 - val_cosine: 0.9988\n",
            "Epoch 67/100\n",
            "40424/40424 [==============================] - 3s 69us/step - loss: 0.0348 - mae: 0.0348 - mse: 0.0139 - mape: 494186.0000 - cosine: 0.9984 - val_loss: 0.0703 - val_mae: 0.0703 - val_mse: 0.0142 - val_mape: 257586.2656 - val_cosine: 0.9988\n",
            "Epoch 68/100\n",
            "40424/40424 [==============================] - 3s 71us/step - loss: 0.0347 - mae: 0.0347 - mse: 0.0139 - mape: 482248.1562 - cosine: 0.9984 - val_loss: 0.0704 - val_mae: 0.0704 - val_mse: 0.0142 - val_mape: 259376.3594 - val_cosine: 0.9988\n",
            "Epoch 69/100\n",
            "40424/40424 [==============================] - 3s 71us/step - loss: 0.0342 - mae: 0.0342 - mse: 0.0135 - mape: 490018.0312 - cosine: 0.9984 - val_loss: 0.0725 - val_mae: 0.0725 - val_mse: 0.0146 - val_mape: 257736.5000 - val_cosine: 0.9988\n",
            "Epoch 70/100\n",
            "40424/40424 [==============================] - 3s 71us/step - loss: 0.0340 - mae: 0.0340 - mse: 0.0134 - mape: 501782.7500 - cosine: 0.9984 - val_loss: 0.0699 - val_mae: 0.0699 - val_mse: 0.0141 - val_mape: 257141.4219 - val_cosine: 0.9988\n",
            "Epoch 71/100\n",
            "40424/40424 [==============================] - 3s 69us/step - loss: 0.0347 - mae: 0.0347 - mse: 0.0140 - mape: 493763.2188 - cosine: 0.9984 - val_loss: 0.0711 - val_mae: 0.0711 - val_mse: 0.0143 - val_mape: 257109.2969 - val_cosine: 0.9988\n",
            "Epoch 72/100\n",
            "40424/40424 [==============================] - 3s 70us/step - loss: 0.0345 - mae: 0.0345 - mse: 0.0138 - mape: 491994.0938 - cosine: 0.9984 - val_loss: 0.0689 - val_mae: 0.0689 - val_mse: 0.0139 - val_mape: 259314.5156 - val_cosine: 0.9988\n",
            "Epoch 73/100\n",
            "40424/40424 [==============================] - 3s 69us/step - loss: 0.0346 - mae: 0.0346 - mse: 0.0138 - mape: 486528.0312 - cosine: 0.9984 - val_loss: 0.0708 - val_mae: 0.0708 - val_mse: 0.0142 - val_mape: 259021.2500 - val_cosine: 0.9988\n",
            "Epoch 74/100\n",
            "40424/40424 [==============================] - 3s 70us/step - loss: 0.0341 - mae: 0.0341 - mse: 0.0135 - mape: 500301.0938 - cosine: 0.9984 - val_loss: 0.0715 - val_mae: 0.0715 - val_mse: 0.0144 - val_mape: 257861.3594 - val_cosine: 0.9988\n",
            "Epoch 75/100\n",
            "40424/40424 [==============================] - 3s 70us/step - loss: 0.0349 - mae: 0.0349 - mse: 0.0141 - mape: 497141.0938 - cosine: 0.9984 - val_loss: 0.0720 - val_mae: 0.0720 - val_mse: 0.0144 - val_mape: 263105.7188 - val_cosine: 0.9988\n",
            "Epoch 76/100\n",
            "40424/40424 [==============================] - 3s 71us/step - loss: 0.0344 - mae: 0.0344 - mse: 0.0137 - mape: 495127.0625 - cosine: 0.9984 - val_loss: 0.0715 - val_mae: 0.0715 - val_mse: 0.0144 - val_mape: 258533.2500 - val_cosine: 0.9988\n",
            "Epoch 77/100\n",
            "40424/40424 [==============================] - 3s 71us/step - loss: 0.0350 - mae: 0.0350 - mse: 0.0141 - mape: 495146.0938 - cosine: 0.9984 - val_loss: 0.0704 - val_mae: 0.0704 - val_mse: 0.0142 - val_mape: 259999.8281 - val_cosine: 0.9988\n",
            "Epoch 78/100\n",
            "40424/40424 [==============================] - 3s 70us/step - loss: 0.0347 - mae: 0.0347 - mse: 0.0139 - mape: 484782.2812 - cosine: 0.9984 - val_loss: 0.0712 - val_mae: 0.0712 - val_mse: 0.0143 - val_mape: 257833.2656 - val_cosine: 0.9988\n",
            "Epoch 79/100\n",
            "40424/40424 [==============================] - 3s 71us/step - loss: 0.0344 - mae: 0.0344 - mse: 0.0138 - mape: 492594.5000 - cosine: 0.9984 - val_loss: 0.0745 - val_mae: 0.0745 - val_mse: 0.0149 - val_mape: 251721.0156 - val_cosine: 0.9988\n",
            "Epoch 80/100\n",
            "40424/40424 [==============================] - 3s 70us/step - loss: 0.0346 - mae: 0.0346 - mse: 0.0139 - mape: 493175.0625 - cosine: 0.9984 - val_loss: 0.0717 - val_mae: 0.0717 - val_mse: 0.0145 - val_mape: 256582.9375 - val_cosine: 0.9988\n",
            "Epoch 81/100\n",
            "40424/40424 [==============================] - 3s 71us/step - loss: 0.0344 - mae: 0.0344 - mse: 0.0137 - mape: 483110.2500 - cosine: 0.9984 - val_loss: 0.0728 - val_mae: 0.0728 - val_mse: 0.0147 - val_mape: 256634.4844 - val_cosine: 0.9988\n",
            "Epoch 82/100\n",
            "40424/40424 [==============================] - 3s 70us/step - loss: 0.0340 - mae: 0.0340 - mse: 0.0136 - mape: 490136.7500 - cosine: 0.9984 - val_loss: 0.0727 - val_mae: 0.0727 - val_mse: 0.0146 - val_mape: 258205.6250 - val_cosine: 0.9988\n",
            "Epoch 83/100\n",
            "40424/40424 [==============================] - 3s 71us/step - loss: 0.0341 - mae: 0.0341 - mse: 0.0134 - mape: 487716.6875 - cosine: 0.9984 - val_loss: 0.0720 - val_mae: 0.0720 - val_mse: 0.0145 - val_mape: 258268.1719 - val_cosine: 0.9988\n",
            "Epoch 84/100\n",
            "40424/40424 [==============================] - 3s 71us/step - loss: 0.0344 - mae: 0.0344 - mse: 0.0138 - mape: 494492.5625 - cosine: 0.9984 - val_loss: 0.0710 - val_mae: 0.0710 - val_mse: 0.0144 - val_mape: 258467.9844 - val_cosine: 0.9988\n",
            "Epoch 85/100\n",
            "40424/40424 [==============================] - 3s 71us/step - loss: 0.0346 - mae: 0.0346 - mse: 0.0140 - mape: 494500.5000 - cosine: 0.9984 - val_loss: 0.0718 - val_mae: 0.0718 - val_mse: 0.0145 - val_mape: 257044.1406 - val_cosine: 0.9988\n",
            "Epoch 86/100\n",
            "40424/40424 [==============================] - 3s 71us/step - loss: 0.0346 - mae: 0.0346 - mse: 0.0139 - mape: 493241.8438 - cosine: 0.9984 - val_loss: 0.0710 - val_mae: 0.0710 - val_mse: 0.0143 - val_mape: 256463.7969 - val_cosine: 0.9988\n",
            "Epoch 87/100\n",
            "40424/40424 [==============================] - 3s 70us/step - loss: 0.0342 - mae: 0.0342 - mse: 0.0136 - mape: 479610.0625 - cosine: 0.9984 - val_loss: 0.0724 - val_mae: 0.0724 - val_mse: 0.0146 - val_mape: 257005.8281 - val_cosine: 0.9988\n",
            "Epoch 88/100\n",
            "40424/40424 [==============================] - 3s 69us/step - loss: 0.0341 - mae: 0.0341 - mse: 0.0136 - mape: 483052.9062 - cosine: 0.9984 - val_loss: 0.0718 - val_mae: 0.0718 - val_mse: 0.0145 - val_mape: 256933.8906 - val_cosine: 0.9988\n",
            "Epoch 89/100\n",
            "40424/40424 [==============================] - 3s 69us/step - loss: 0.0346 - mae: 0.0346 - mse: 0.0139 - mape: 495857.0625 - cosine: 0.9984 - val_loss: 0.0731 - val_mae: 0.0731 - val_mse: 0.0147 - val_mape: 256520.6094 - val_cosine: 0.9988\n",
            "Epoch 90/100\n",
            "40424/40424 [==============================] - 3s 70us/step - loss: 0.0342 - mae: 0.0342 - mse: 0.0137 - mape: 487836.7500 - cosine: 0.9984 - val_loss: 0.0726 - val_mae: 0.0726 - val_mse: 0.0146 - val_mape: 254393.5156 - val_cosine: 0.9988\n",
            "Epoch 91/100\n",
            "40424/40424 [==============================] - 3s 70us/step - loss: 0.0349 - mae: 0.0349 - mse: 0.0142 - mape: 496971.0938 - cosine: 0.9984 - val_loss: 0.0725 - val_mae: 0.0725 - val_mse: 0.0146 - val_mape: 258317.7500 - val_cosine: 0.9988\n",
            "Epoch 92/100\n",
            "40424/40424 [==============================] - 3s 70us/step - loss: 0.0342 - mae: 0.0342 - mse: 0.0136 - mape: 497024.2188 - cosine: 0.9984 - val_loss: 0.0735 - val_mae: 0.0735 - val_mse: 0.0147 - val_mape: 257889.1250 - val_cosine: 0.9988\n",
            "Epoch 93/100\n",
            "40424/40424 [==============================] - 3s 70us/step - loss: 0.0344 - mae: 0.0344 - mse: 0.0137 - mape: 488597.0938 - cosine: 0.9984 - val_loss: 0.0731 - val_mae: 0.0731 - val_mse: 0.0147 - val_mape: 256500.6719 - val_cosine: 0.9988\n",
            "Epoch 94/100\n",
            "40424/40424 [==============================] - 3s 70us/step - loss: 0.0339 - mae: 0.0339 - mse: 0.0135 - mape: 485193.7188 - cosine: 0.9984 - val_loss: 0.0753 - val_mae: 0.0753 - val_mse: 0.0152 - val_mape: 249298.2031 - val_cosine: 0.9988\n",
            "Epoch 95/100\n",
            "40424/40424 [==============================] - 3s 71us/step - loss: 0.0339 - mae: 0.0339 - mse: 0.0136 - mape: 487595.0938 - cosine: 0.9984 - val_loss: 0.0749 - val_mae: 0.0749 - val_mse: 0.0150 - val_mape: 251939.0312 - val_cosine: 0.9988\n",
            "Epoch 96/100\n",
            "40424/40424 [==============================] - 3s 70us/step - loss: 0.0342 - mae: 0.0342 - mse: 0.0136 - mape: 480046.5000 - cosine: 0.9984 - val_loss: 0.0730 - val_mae: 0.0730 - val_mse: 0.0148 - val_mape: 255215.9844 - val_cosine: 0.9988\n",
            "Epoch 97/100\n",
            "40424/40424 [==============================] - 3s 69us/step - loss: 0.0343 - mae: 0.0343 - mse: 0.0139 - mape: 481351.0312 - cosine: 0.9984 - val_loss: 0.0704 - val_mae: 0.0704 - val_mse: 0.0144 - val_mape: 257926.3750 - val_cosine: 0.9988\n",
            "Epoch 98/100\n",
            "40424/40424 [==============================] - 3s 71us/step - loss: 0.0342 - mae: 0.0342 - mse: 0.0137 - mape: 488420.6562 - cosine: 0.9984 - val_loss: 0.0734 - val_mae: 0.0734 - val_mse: 0.0148 - val_mape: 255061.2500 - val_cosine: 0.9988\n",
            "Epoch 99/100\n",
            "40424/40424 [==============================] - 3s 69us/step - loss: 0.0342 - mae: 0.0342 - mse: 0.0139 - mape: 490440.8125 - cosine: 0.9984 - val_loss: 0.0726 - val_mae: 0.0726 - val_mse: 0.0147 - val_mape: 253739.9219 - val_cosine: 0.9988\n",
            "Epoch 100/100\n",
            "40424/40424 [==============================] - 3s 70us/step - loss: 0.0342 - mae: 0.0342 - mse: 0.0136 - mape: 504142.4375 - cosine: 0.9984 - val_loss: 0.0728 - val_mae: 0.0728 - val_mse: 0.0147 - val_mape: 259257.9844 - val_cosine: 0.9988\n"
          ],
          "name": "stdout"
        }
      ]
    },
    {
      "cell_type": "code",
      "metadata": {
        "id": "KkgzWdJCgt02",
        "colab_type": "code",
        "colab": {}
      },
      "source": [
        "#error calculation\n",
        "from sklearn.metrics import mean_squared_error\n",
        "from sklearn.metrics import mean_absolute_error \n",
        "def lstm_model_accuracy(y_pred, y_test):\n",
        "    MSE = np.sqrt(mean_squared_error(y_test, y_pred))\n",
        "    acc = 0\n",
        "    #MAE = mean_absolute_error(y_test, y_pred)\n",
        "    return acc, MSE"
      ],
      "execution_count": null,
      "outputs": []
    },
    {
      "cell_type": "code",
      "metadata": {
        "id": "MVaOOgfgG6o1",
        "colab_type": "code",
        "colab": {}
      },
      "source": [
        "#LSTM prediction\n",
        "y_pred = model_predict(model4, X_test)\n",
        "#LSTM accuracy\n",
        "\n",
        "#error calculation\n",
        "acc, mse = lstm_model_accuracy(y_pred, y_test)\n",
        "#print(\"LSTM Regressor accuracy: \" + str(acc*100) + \"%\")\n",
        "print(\"LSTM Regressor MSE: \" + str(mse))"
      ],
      "execution_count": null,
      "outputs": []
    },
    {
      "cell_type": "code",
      "metadata": {
        "id": "nWebAQmdHbNo",
        "colab_type": "code",
        "colab": {
          "base_uri": "https://localhost:8080/",
          "height": 295
        },
        "outputId": "753b10c6-5a0b-4b2f-fe41-d8b0bc192ef2"
      },
      "source": [
        "#LSTM performance\n",
        "from pylab import rcParams\n",
        "def plot_history(history):\n",
        "\n",
        "    #plotting style\n",
        "    plt.style.use(\"ggplot\");\n",
        "    #plotting data\n",
        "    plt.figure(figsize=(25, 8));\n",
        "    plt.plot(history.history['loss'],label='train')\n",
        "    plt.plot(history.history['val_loss'],label='test')\n",
        "    plt.legend()\n",
        "    plt.show()\n",
        "    \n",
        "plot_history(history)"
      ],
      "execution_count": null,
      "outputs": [
        {
          "output_type": "display_data",
          "data": {
            "image/png": "[encoded data removed]",
            "text/plain": [
              "<Figure size 1800x576 with 1 Axes>"
            ]
          },
          "metadata": {
            "tags": []
          }
        }
      ]
    },
    {
      "cell_type": "code",
      "metadata": {
        "id": "OVIF7vX-H194",
        "colab_type": "code",
        "colab": {}
      },
      "source": [
        ""
      ],
      "execution_count": null,
      "outputs": []
    }
  ]
}